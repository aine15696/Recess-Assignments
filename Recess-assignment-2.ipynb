{
 "cells": [
  {
   "cell_type": "markdown",
   "id": "2cbb7150",
   "metadata": {},
   "source": [
    "<h2>Creating a set</h2>"
   ]
  },
  {
   "cell_type": "code",
   "execution_count": 1,
   "id": "f25bff3c",
   "metadata": {},
   "outputs": [],
   "source": [
    "Set = {1, 2, 3, 4, 5}"
   ]
  },
  {
   "cell_type": "markdown",
   "id": "6e7ab007",
   "metadata": {},
   "source": [
    "<h2>Printing the set</h2>"
   ]
  },
  {
   "cell_type": "code",
   "execution_count": 2,
   "id": "398e5c35",
   "metadata": {},
   "outputs": [
    {
     "name": "stdout",
     "output_type": "stream",
     "text": [
      "Set: {1, 2, 3, 4, 5}\n"
     ]
    }
   ],
   "source": [
    "print(\"Set:\", Set)"
   ]
  },
  {
   "cell_type": "markdown",
   "id": "583429c8",
   "metadata": {},
   "source": [
    "<h2>Adding elements to the set</h2>"
   ]
  },
  {
   "cell_type": "code",
   "execution_count": 3,
   "id": "c6a4dee3",
   "metadata": {},
   "outputs": [
    {
     "name": "stdout",
     "output_type": "stream",
     "text": [
      "Updated Set: {1, 2, 3, 4, 5, 6, 7, 8, 9}\n"
     ]
    }
   ],
   "source": [
    "Set.add(6)\n",
    "Set.update([7, 8, 9])\n",
    "\n",
    "print(\"Updated Set:\", Set)\n",
    "\n",
    "Set.add(6)"
   ]
  },
  {
   "cell_type": "markdown",
   "id": "4b3cea9f",
   "metadata": {},
   "source": [
    "<h2>Removing an element from the set</h2>"
   ]
  },
  {
   "cell_type": "code",
   "execution_count": 4,
   "id": "e95b50a3",
   "metadata": {},
   "outputs": [
    {
     "name": "stdout",
     "output_type": "stream",
     "text": [
      "Updated Set: {1, 2, 3, 4, 6, 7, 8}\n"
     ]
    },
    {
     "ename": "TypeError",
     "evalue": "descriptor 'remove' for 'set' objects doesn't apply to a 'int' object",
     "output_type": "error",
     "traceback": [
      "\u001b[1;31m---------------------------------------------------------------------------\u001b[0m",
      "\u001b[1;31mTypeError\u001b[0m                                 Traceback (most recent call last)",
      "Cell \u001b[1;32mIn[4], line 7\u001b[0m\n\u001b[0;32m      4\u001b[0m \u001b[38;5;28mprint\u001b[39m(\u001b[38;5;124m\"\u001b[39m\u001b[38;5;124mUpdated Set:\u001b[39m\u001b[38;5;124m\"\u001b[39m, Set)\n\u001b[0;32m      6\u001b[0m Set\u001b[38;5;241m.\u001b[39mdiscard(\u001b[38;5;241m10\u001b[39m) \u001b[38;5;66;03m#No error even when 10 is not in the set\u001b[39;00m\n\u001b[1;32m----> 7\u001b[0m \u001b[38;5;28;43mset\u001b[39;49m\u001b[38;5;241;43m.\u001b[39;49m\u001b[43mremove\u001b[49m\u001b[43m(\u001b[49m\u001b[38;5;241;43m5\u001b[39;49m\u001b[43m)\u001b[49m\n",
      "\u001b[1;31mTypeError\u001b[0m: descriptor 'remove' for 'set' objects doesn't apply to a 'int' object"
     ]
    }
   ],
   "source": [
    "Set.remove(5)\n",
    "Set.discard(9)\n",
    "\n",
    "print(\"Updated Set:\", Set)\n",
    "\n",
    "Set.discard(10) #No error even when 10 is not in the set\n",
    "set.remove(5)"
   ]
  },
  {
   "cell_type": "markdown",
   "id": "736f4d8e",
   "metadata": {},
   "source": [
    "<h2>Checking if an element exists in the set</h2>"
   ]
  },
  {
   "cell_type": "code",
   "execution_count": 5,
   "id": "402f735d",
   "metadata": {},
   "outputs": [
    {
     "name": "stdout",
     "output_type": "stream",
     "text": [
      "Is 2 in the set? True\n"
     ]
    }
   ],
   "source": [
    "print(\"Is 2 in the set?\", 2 in Set)"
   ]
  },
  {
   "cell_type": "markdown",
   "id": "503ac272",
   "metadata": {},
   "source": [
    "<h2>Getting the length of the set</h2>"
   ]
  },
  {
   "cell_type": "code",
   "execution_count": 6,
   "id": "9b5f27db",
   "metadata": {},
   "outputs": [
    {
     "name": "stdout",
     "output_type": "stream",
     "text": [
      "Length of the set: 7\n"
     ]
    }
   ],
   "source": [
    "print(\"Length of the set:\", len(Set))"
   ]
  }
 ],
 "metadata": {
  "kernelspec": {
   "display_name": "Python 3 (ipykernel)",
   "language": "python",
   "name": "python3"
  },
  "language_info": {
   "codemirror_mode": {
    "name": "ipython",
    "version": 3
   },
   "file_extension": ".py",
   "mimetype": "text/x-python",
   "name": "python",
   "nbconvert_exporter": "python",
   "pygments_lexer": "ipython3",
   "version": "3.10.9"
  }
 },
 "nbformat": 4,
 "nbformat_minor": 5
}
