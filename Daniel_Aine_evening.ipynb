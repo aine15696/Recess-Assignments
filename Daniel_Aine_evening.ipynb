{
 "cells": [
  {
   "cell_type": "markdown",
   "metadata": {
    "id": "vye1aZ8D_v7u"
   },
   "source": [
    "# Assignment 1: create a simple pandas series from a dictionary: For days and dates"
   ]
  },
  {
   "cell_type": "code",
   "execution_count": 2,
   "metadata": {
    "colab": {
     "base_uri": "https://localhost:8080/"
    },
    "id": "dPA_pi0t_ufH",
    "outputId": "c2541df0-79f6-45ab-bdd6-8e6f8d7d587a"
   },
   "outputs": [
    {
     "name": "stdout",
     "output_type": "stream",
     "text": [
      "Sunday       {'New York': '2023-07-02', 'Los Angeles': '202...\n",
      "Monday       {'New York': '2023-07-03', 'Los Angeles': '202...\n",
      "Tuesday      {'New York': '2023-07-04', 'Los Angeles': '202...\n",
      "Wednesday    {'New York': '2023-07-05', 'Los Angeles': '202...\n",
      "Thursday     {'New York': '2023-07-06', 'Los Angeles': '202...\n",
      "Friday       {'New York': '2023-07-07', 'Los Angeles': '202...\n",
      "dtype: object\n"
     ]
    }
   ],
   "source": [
    "import pandas as pd\n",
    "\n",
    "data = {\n",
    "    'Sunday': {\n",
    "        'New York': '2023-07-02',\n",
    "        'Los Angeles': '2023-07-02',\n",
    "        'Chicago': '2023-07-02',\n",
    "        'Houston': '2023-07-02'\n",
    "    },\n",
    "    'Monday': {\n",
    "        'New York': '2023-07-03',\n",
    "        'Los Angeles': '2023-07-03',\n",
    "        'Chicago': '2023-07-03',\n",
    "        'Houston': '2023-07-03'\n",
    "    },\n",
    "    'Tuesday': {\n",
    "        'New York': '2023-07-04',\n",
    "        'Los Angeles': '2023-07-04',\n",
    "        'Chicago': '2023-07-04',\n",
    "        'Houston': '2023-07-04'\n",
    "    },\n",
    "    'Wednesday': {\n",
    "        'New York': '2023-07-05',\n",
    "        'Los Angeles': '2023-07-05',\n",
    "        'Chicago': '2023-07-05',\n",
    "        'Houston': '2023-07-05'\n",
    "    },\n",
    "    'Thursday': {\n",
    "        'New York': '2023-07-06',\n",
    "        'Los Angeles': '2023-07-06',\n",
    "        'Chicago': '2023-07-06',\n",
    "        'Houston': '2023-07-06'\n",
    "    },\n",
    "    'Friday': {\n",
    "        'New York': '2023-07-07',\n",
    "        'Los Angeles': '2023-07-07',\n",
    "        'Chicago': '2023-07-07',\n",
    "        'Houston': '2023-07-07'\n",
    "    }\n",
    "}\n",
    "\n",
    "\n",
    "series = pd.Series(data)\n",
    "print(series)\n"
   ]
  },
  {
   "cell_type": "markdown",
   "metadata": {
    "id": "wd09tkQ4CyQ6"
   },
   "source": [
    "# Assignment 2: create a simple series using only data from Monday and Tuesday"
   ]
  },
  {
   "cell_type": "code",
   "execution_count": 3,
   "metadata": {
    "colab": {
     "base_uri": "https://localhost:8080/"
    },
    "id": "HhoQ3lkBCxXi",
    "outputId": "65718a22-8176-48bb-f61b-1115df86ddfc"
   },
   "outputs": [
    {
     "name": "stdout",
     "output_type": "stream",
     "text": [
      "New York       2023-07-032023-07-04\n",
      "Los Angeles    2023-07-032023-07-04\n",
      "Chicago        2023-07-032023-07-04\n",
      "Houston        2023-07-032023-07-04\n",
      "dtype: object\n"
     ]
    }
   ],
   "source": [
    "series_monday = pd.Series(data['Monday'])\n",
    "\n",
    "series_tuesday = pd.Series(data['Tuesday'])\n",
    "\n",
    "series_combined = series_monday + series_tuesday\n",
    "\n",
    "print(series_combined)\n"
   ]
  },
  {
   "cell_type": "markdown",
   "metadata": {
    "id": "9N9RQrrWNpEK"
   },
   "source": [
    "<h2>Assignment</h2>\n"
   ]
  },
  {
   "cell_type": "markdown",
   "metadata": {
    "id": "uwktVz-AMa5K"
   },
   "source": [
    "# Analyzing Data / Cleaning Data Exercise\n",
    "You are required to use some of the methods below to analyze and clean your data namely;\n",
    "1. Head ()\n",
    "2. Tail ()\n",
    "3. Info()\n",
    "4. Dropna()\n",
    "5. Fillna()\n",
    "\n",
    "Also use the appropriate methods to remove;\n",
    "1. Wrong data\n",
    "2. Wrong formats\n",
    "3. Duplicates\n",
    "4. Perform some correlation"
   ]
  },
  {
   "cell_type": "markdown",
   "metadata": {
    "id": "3Q2jYRWCNLfU"
   },
   "source": [
    "## Displaying Head ()"
   ]
  },
  {
   "cell_type": "code",
   "execution_count": 5,
   "metadata": {
    "colab": {
     "base_uri": "https://localhost:8080/"
    },
    "id": "UR7eTVPrMaXn",
    "outputId": "6795e021-138c-4ee8-9446-966c4582045b"
   },
   "outputs": [
    {
     "name": "stdout",
     "output_type": "stream",
     "text": [
      "Head of Work CSV file:\n",
      "     Name         city  age py-score\n",
      "0    Emma      Kampala   23       90\n",
      "1  Wilber        Mbale   26       75\n",
      "2   Robin         Gulu   25     mine\n",
      "3   Tevor  Livingstone  NaN       89\n",
      "4    Yeko       Tororo   20       94\n",
      "\n",
      "Head of mine csv file :\n",
      "   Duration  Pulse  Maxpulse  Calories\n",
      "0        60    110       130     409.1\n",
      "1        60    117       145     479.0\n",
      "2        60    103       135     340.0\n",
      "3        45    109       175     282.4\n",
      "4        45    117       148     406.0\n"
     ]
    }
   ],
   "source": [
    "df3 = pd.read_csv('Work.csv')\n",
    "print(\"Head of Work CSV file:\")\n",
    "print(df3.head())\n",
    "\n",
    "# Reading the mine CSV file\n",
    "df4 = pd.read_csv('mine.csv')\n",
    "print(\"\\nHead of mine csv file :\")\n",
    "print(df4.head())\n"
   ]
  },
  {
   "cell_type": "markdown",
   "metadata": {
    "id": "ZvjVset5OuGd"
   },
   "source": [
    "## displaying the Tail -- Tail()"
   ]
  },
  {
   "cell_type": "code",
   "execution_count": 6,
   "metadata": {
    "colab": {
     "base_uri": "https://localhost:8080/"
    },
    "id": "hhtZGAqCOtd7",
    "outputId": "344ba3b1-0b52-4550-ac12-72ed7835222c"
   },
   "outputs": [
    {
     "name": "stdout",
     "output_type": "stream",
     "text": [
      "Tail of the work file  :\n",
      "     Name         city    age py-score\n",
      "2   Robin         Gulu     25     mine\n",
      "3   Tevor  Livingstone    NaN       89\n",
      "4    Yeko       Tororo     20       94\n",
      "5  Miriam         Arua  Train      NaN\n",
      "6   Jesca      Mbarara     21       84\n",
      "\n",
      "Tail of the mine file :\n",
      "     Duration  Pulse  Maxpulse  Calories\n",
      "164        60    105       140     290.8\n",
      "165        60    110       145     300.0\n",
      "166        60    115       145     310.2\n",
      "167        75    120       150     320.4\n",
      "168        75    125       150     330.4\n"
     ]
    }
   ],
   "source": [
    "df3 = pd.read_csv('Work.csv')\n",
    "print(\"Tail of the work file  :\")\n",
    "print(df3.tail())\n",
    "\n",
    "# Reading the mine CSV file\n",
    "df4 = pd.read_csv('mine.csv')\n",
    "print(\"\\nTail of the mine file :\")\n",
    "print(df4.tail())\n"
   ]
  },
  {
   "cell_type": "markdown",
   "metadata": {
    "id": "T4P0A3k8PcoK"
   },
   "source": [
    "## **Displaying** the info. using Info()"
   ]
  },
  {
   "cell_type": "code",
   "execution_count": 7,
   "metadata": {
    "colab": {
     "base_uri": "https://localhost:8080/"
    },
    "id": "uHvA4Rg0Pbpi",
    "outputId": "618a5f87-b63c-4188-8ede-1ed92468dc34"
   },
   "outputs": [
    {
     "name": "stdout",
     "output_type": "stream",
     "text": [
      "Info of work csv file:\n",
      "<class 'pandas.core.frame.DataFrame'>\n",
      "RangeIndex: 7 entries, 0 to 6\n",
      "Data columns (total 4 columns):\n",
      " #   Column    Non-Null Count  Dtype \n",
      "---  ------    --------------  ----- \n",
      " 0   Name      7 non-null      object\n",
      " 1   city      7 non-null      object\n",
      " 2   age       6 non-null      object\n",
      " 3   py-score  6 non-null      object\n",
      "dtypes: object(4)\n",
      "memory usage: 352.0+ bytes\n",
      "None\n",
      "\n",
      "Info mine csv file:\n",
      "<class 'pandas.core.frame.DataFrame'>\n",
      "RangeIndex: 169 entries, 0 to 168\n",
      "Data columns (total 4 columns):\n",
      " #   Column    Non-Null Count  Dtype  \n",
      "---  ------    --------------  -----  \n",
      " 0   Duration  169 non-null    int64  \n",
      " 1   Pulse     169 non-null    int64  \n",
      " 2   Maxpulse  169 non-null    int64  \n",
      " 3   Calories  164 non-null    float64\n",
      "dtypes: float64(1), int64(3)\n",
      "memory usage: 5.4 KB\n",
      "None\n"
     ]
    }
   ],
   "source": [
    "df3 = pd.read_csv('Work.csv')\n",
    "print(\"Info of work csv file:\")\n",
    "print(df3.info())\n",
    "\n",
    "# Reading the mine CSV file\n",
    "df4 = pd.read_csv('mine.csv')\n",
    "print(\"\\nInfo mine csv file:\")\n",
    "print(df4.info())\n"
   ]
  },
  {
   "cell_type": "markdown",
   "metadata": {
    "id": "t09cBjR5QE_n"
   },
   "source": [
    "## Dropna() For missing values"
   ]
  },
  {
   "cell_type": "code",
   "execution_count": 8,
   "metadata": {
    "colab": {
     "base_uri": "https://localhost:8080/"
    },
    "id": "oo8CXcxTQEPx",
    "outputId": "5e4eac71-2113-4485-dd16-921b2f58f735"
   },
   "outputs": [
    {
     "name": "stdout",
     "output_type": "stream",
     "text": [
      "DataFrame after dropping missing values Work CSV file:\n",
      "     Name     city age py-score\n",
      "0    Emma  Kampala  23       90\n",
      "1  Wilber    Mbale  26       75\n",
      "2   Robin     Gulu  25     mine\n",
      "4    Yeko   Tororo  20       94\n",
      "6   Jesca  Mbarara  21       84\n",
      "\n",
      "DataFrame after dropping missing values mine csv file:\n",
      "     Duration  Pulse  Maxpulse  Calories\n",
      "0          60    110       130     409.1\n",
      "1          60    117       145     479.0\n",
      "2          60    103       135     340.0\n",
      "3          45    109       175     282.4\n",
      "4          45    117       148     406.0\n",
      "..        ...    ...       ...       ...\n",
      "164        60    105       140     290.8\n",
      "165        60    110       145     300.0\n",
      "166        60    115       145     310.2\n",
      "167        75    120       150     320.4\n",
      "168        75    125       150     330.4\n",
      "\n",
      "[164 rows x 4 columns]\n"
     ]
    }
   ],
   "source": [
    "df3 = pd.read_csv('Work.csv')\n",
    "df3 = df3.dropna()\n",
    "print(\"DataFrame after dropping missing values Work CSV file:\")\n",
    "print(df3)\n",
    "\n",
    "# Reading the mine CSV file\n",
    "df4 = pd.read_csv('mine.csv')\n",
    "df4 = df4.dropna()\n",
    "print(\"\\nDataFrame after dropping missing values mine csv file:\")\n",
    "print(df4)\n"
   ]
  },
  {
   "cell_type": "markdown",
   "metadata": {
    "id": "j2x2LYDhSG02"
   },
   "source": [
    "## fillna()"
   ]
  },
  {
   "cell_type": "code",
   "execution_count": 9,
   "metadata": {
    "colab": {
     "base_uri": "https://localhost:8080/"
    },
    "id": "a6WRvrJ2SGEI",
    "outputId": "d5b72e66-5847-4137-eb4c-3635a861a84b"
   },
   "outputs": [
    {
     "name": "stdout",
     "output_type": "stream",
     "text": [
      "DataFrame after filling missing values from Work.csv:\n",
      "     Name         city    age py-score\n",
      "0    Emma      Kampala     23       90\n",
      "1  Wilber        Mbale     26       75\n",
      "2   Robin         Gulu     25     mine\n",
      "3   Tevor  Livingstone      X       89\n",
      "4    Yeko       Tororo     20       94\n",
      "5  Miriam         Arua  Train        X\n",
      "6   Jesca      Mbarara     21       84\n",
      "\n",
      "DataFrame after filling missing values from mine.csv:\n",
      "     Duration  Pulse  Maxpulse Calories\n",
      "0          60    110       130    409.1\n",
      "1          60    117       145    479.0\n",
      "2          60    103       135    340.0\n",
      "3          45    109       175    282.4\n",
      "4          45    117       148    406.0\n",
      "..        ...    ...       ...      ...\n",
      "164        60    105       140    290.8\n",
      "165        60    110       145    300.0\n",
      "166        60    115       145    310.2\n",
      "167        75    120       150    320.4\n",
      "168        75    125       150    330.4\n",
      "\n",
      "[169 rows x 4 columns]\n"
     ]
    }
   ],
   "source": [
    "import pandas as pd\n",
    "\n",
    "# Reading the work CSV file\n",
    "df3 = pd.read_csv('Work.csv')\n",
    "df3 = df3.fillna(\"X\")\n",
    "print(\"DataFrame after filling missing values from Work.csv:\")\n",
    "print(df3)\n",
    "\n",
    "# Reading the mine CSV file\n",
    "df4 = pd.read_csv('mine.csv')\n",
    "df4 = df4.fillna('X')\n",
    "print(\"\\nDataFrame after filling missing values from mine.csv:\")\n",
    "print(df4)\n"
   ]
  },
  {
   "cell_type": "markdown",
   "metadata": {
    "id": "t801BA_vdE5y"
   },
   "source": [
    "### Handling the wrong values"
   ]
  },
  {
   "cell_type": "code",
   "execution_count": 10,
   "metadata": {
    "colab": {
     "base_uri": "https://localhost:8080/"
    },
    "id": "qab11-Z0Tnmu",
    "outputId": "10b1f1c0-6aae-45cc-fd8c-0cfd764fe56b"
   },
   "outputs": [
    {
     "name": "stdout",
     "output_type": "stream",
     "text": [
      "     Name         city age  py-score\n",
      "0    Emma      Kampala  23      90.0\n",
      "1  Wilber        Mbale  26      75.0\n",
      "3   Tevor  Livingstone   X      89.0\n",
      "4    Yeko       Tororo  20      94.0\n",
      "6   Jesca      Mbarara  21      84.0\n"
     ]
    }
   ],
   "source": [
    "df3['py-score'] = pd.to_numeric(df3['py-score'], errors='coerce')\n",
    "df3 = df3.dropna(subset=['py-score'])\n",
    "\n",
    "# Displaying the filtered DataFrame\n",
    "print(df3)"
   ]
  },
  {
   "cell_type": "code",
   "execution_count": 11,
   "metadata": {
    "colab": {
     "base_uri": "https://localhost:8080/"
    },
    "id": "Ee9Fb739dv2h",
    "outputId": "9bdbce1a-c0da-4d38-94bc-24067350e111"
   },
   "outputs": [
    {
     "name": "stdout",
     "output_type": "stream",
     "text": [
      "     Name     city   age  py-score\n",
      "0    Emma  Kampala  23.0      90.0\n",
      "1  Wilber    Mbale  26.0      75.0\n",
      "4    Yeko   Tororo  20.0      94.0\n",
      "6   Jesca  Mbarara  21.0      84.0\n"
     ]
    }
   ],
   "source": [
    "df3['age'] = pd.to_numeric(df3['age'], errors='coerce')\n",
    "df3 = df3.dropna(subset=['age'])\n",
    "\n",
    "# Displaying the filtered DataFrame\n",
    "print(df3)"
   ]
  },
  {
   "cell_type": "code",
   "execution_count": 12,
   "metadata": {
    "colab": {
     "base_uri": "https://localhost:8080/",
     "height": 300
    },
    "id": "rZBnTczhfCyf",
    "outputId": "357054de-9af3-43fc-aed8-4d7a1b8781ca"
   },
   "outputs": [
    {
     "data": {
      "text/html": [
       "<div>\n",
       "<style scoped>\n",
       "    .dataframe tbody tr th:only-of-type {\n",
       "        vertical-align: middle;\n",
       "    }\n",
       "\n",
       "    .dataframe tbody tr th {\n",
       "        vertical-align: top;\n",
       "    }\n",
       "\n",
       "    .dataframe thead th {\n",
       "        text-align: right;\n",
       "    }\n",
       "</style>\n",
       "<table border=\"1\" class=\"dataframe\">\n",
       "  <thead>\n",
       "    <tr style=\"text-align: right;\">\n",
       "      <th></th>\n",
       "      <th>Duration</th>\n",
       "      <th>Pulse</th>\n",
       "      <th>Maxpulse</th>\n",
       "    </tr>\n",
       "  </thead>\n",
       "  <tbody>\n",
       "    <tr>\n",
       "      <th>count</th>\n",
       "      <td>169.000000</td>\n",
       "      <td>169.000000</td>\n",
       "      <td>169.000000</td>\n",
       "    </tr>\n",
       "    <tr>\n",
       "      <th>mean</th>\n",
       "      <td>63.846154</td>\n",
       "      <td>107.461538</td>\n",
       "      <td>134.047337</td>\n",
       "    </tr>\n",
       "    <tr>\n",
       "      <th>std</th>\n",
       "      <td>42.299949</td>\n",
       "      <td>14.510259</td>\n",
       "      <td>16.450434</td>\n",
       "    </tr>\n",
       "    <tr>\n",
       "      <th>min</th>\n",
       "      <td>15.000000</td>\n",
       "      <td>80.000000</td>\n",
       "      <td>100.000000</td>\n",
       "    </tr>\n",
       "    <tr>\n",
       "      <th>25%</th>\n",
       "      <td>45.000000</td>\n",
       "      <td>100.000000</td>\n",
       "      <td>124.000000</td>\n",
       "    </tr>\n",
       "    <tr>\n",
       "      <th>50%</th>\n",
       "      <td>60.000000</td>\n",
       "      <td>105.000000</td>\n",
       "      <td>131.000000</td>\n",
       "    </tr>\n",
       "    <tr>\n",
       "      <th>75%</th>\n",
       "      <td>60.000000</td>\n",
       "      <td>111.000000</td>\n",
       "      <td>141.000000</td>\n",
       "    </tr>\n",
       "    <tr>\n",
       "      <th>max</th>\n",
       "      <td>300.000000</td>\n",
       "      <td>159.000000</td>\n",
       "      <td>184.000000</td>\n",
       "    </tr>\n",
       "  </tbody>\n",
       "</table>\n",
       "</div>"
      ],
      "text/plain": [
       "         Duration       Pulse    Maxpulse\n",
       "count  169.000000  169.000000  169.000000\n",
       "mean    63.846154  107.461538  134.047337\n",
       "std     42.299949   14.510259   16.450434\n",
       "min     15.000000   80.000000  100.000000\n",
       "25%     45.000000  100.000000  124.000000\n",
       "50%     60.000000  105.000000  131.000000\n",
       "75%     60.000000  111.000000  141.000000\n",
       "max    300.000000  159.000000  184.000000"
      ]
     },
     "execution_count": 12,
     "metadata": {},
     "output_type": "execute_result"
    }
   ],
   "source": [
    "df4.describe()"
   ]
  },
  {
   "cell_type": "code",
   "execution_count": 13,
   "metadata": {
    "colab": {
     "base_uri": "https://localhost:8080/"
    },
    "id": "V2JkF3jeexwL",
    "outputId": "a5cf4fb8-1dee-4eb6-97b8-f44882a48522"
   },
   "outputs": [
    {
     "name": "stdout",
     "output_type": "stream",
     "text": [
      "     Duration  Pulse  Maxpulse Calories\n",
      "0          60    110       130    409.1\n",
      "1          60    117       145    479.0\n",
      "2          60    103       135    340.0\n",
      "3          45    109       175    282.4\n",
      "4          45    117       148    406.0\n",
      "..        ...    ...       ...      ...\n",
      "164        60    105       140    290.8\n",
      "165        60    110       145    300.0\n",
      "166        60    115       145    310.2\n",
      "167        75    120       150    320.4\n",
      "168        75    125       150    330.4\n",
      "\n",
      "[169 rows x 4 columns]\n"
     ]
    }
   ],
   "source": [
    "df4['Maxpulse'] = pd.to_numeric(df4['Maxpulse'], errors='coerce')\n",
    "df4 = df4.dropna(subset=['Maxpulse'])\n",
    "\n",
    "# Displaying the filtered DataFrame\n",
    "print(df4)"
   ]
  },
  {
   "cell_type": "markdown",
   "metadata": {
    "id": "bxte08SxgSMR"
   },
   "source": [
    "### Handling Wrong Data Formats"
   ]
  },
  {
   "cell_type": "code",
   "execution_count": 14,
   "metadata": {
    "colab": {
     "base_uri": "https://localhost:8080/"
    },
    "id": "Gi05Vyergg0b",
    "outputId": "8db572bc-7007-4363-b550-8c56abd5aeea"
   },
   "outputs": [
    {
     "name": "stdout",
     "output_type": "stream",
     "text": [
      "     Name     city age  py-score\n",
      "0    Emma  Kampala  23      90.0\n",
      "1  Wilber    Mbale  26      75.0\n",
      "4    Yeko   Tororo  20      94.0\n",
      "6   Jesca  Mbarara  21      84.0\n"
     ]
    }
   ],
   "source": [
    "# Removing decimal places from a specific column\n",
    "df3['age'] = df3['age'].astype(str).str.split('.').str[0]\n",
    "print(df3)\n"
   ]
  },
  {
   "cell_type": "code",
   "execution_count": 15,
   "metadata": {
    "colab": {
     "base_uri": "https://localhost:8080/"
    },
    "id": "X_OiCJpzhxCH",
    "outputId": "e7ee235d-fa97-475b-8350-453d11a6f0b5"
   },
   "outputs": [
    {
     "name": "stdout",
     "output_type": "stream",
     "text": [
      "     Name     city age py-score\n",
      "0    Emma  Kampala  23       90\n",
      "1  Wilber    Mbale  26       75\n",
      "4    Yeko   Tororo  20       94\n",
      "6   Jesca  Mbarara  21       84\n"
     ]
    }
   ],
   "source": [
    "df3['py-score'] = df3['py-score'].astype(str).str.split('.').str[0]\n",
    "print(df3)"
   ]
  },
  {
   "cell_type": "markdown",
   "metadata": {
    "id": "ini0qwfohXBJ"
   },
   "source": [
    "### Calories figures from Decimal points to Whole numbers"
   ]
  },
  {
   "cell_type": "code",
   "execution_count": 16,
   "metadata": {
    "colab": {
     "base_uri": "https://localhost:8080/"
    },
    "id": "4GQ_S93-g6-F",
    "outputId": "ea65df4a-968f-47ae-c0e5-b27fe7baae7f"
   },
   "outputs": [
    {
     "name": "stdout",
     "output_type": "stream",
     "text": [
      "     Duration  Pulse  Maxpulse Calories\n",
      "0          60    110       130      409\n",
      "1          60    117       145      479\n",
      "2          60    103       135      340\n",
      "3          45    109       175      282\n",
      "4          45    117       148      406\n",
      "..        ...    ...       ...      ...\n",
      "164        60    105       140      290\n",
      "165        60    110       145      300\n",
      "166        60    115       145      310\n",
      "167        75    120       150      320\n",
      "168        75    125       150      330\n",
      "\n",
      "[169 rows x 4 columns]\n"
     ]
    }
   ],
   "source": [
    "df4['Calories'] = df4['Calories'].astype(str).str.split('.').str[0]\n",
    "print(df4)\n"
   ]
  },
  {
   "cell_type": "markdown",
   "metadata": {
    "id": "YgFndkHYkpY3"
   },
   "source": [
    "## Finding The Duplicates"
   ]
  },
  {
   "cell_type": "code",
   "execution_count": 17,
   "metadata": {
    "colab": {
     "base_uri": "https://localhost:8080/"
    },
    "id": "B6YE2iPGklXT",
    "outputId": "81c546d8-1587-4529-bfe7-11ed4260b6aa"
   },
   "outputs": [
    {
     "data": {
      "text/plain": [
       "0      False\n",
       "1      False\n",
       "2      False\n",
       "3      False\n",
       "4      False\n",
       "       ...  \n",
       "164    False\n",
       "165    False\n",
       "166    False\n",
       "167    False\n",
       "168    False\n",
       "Length: 169, dtype: bool"
      ]
     },
     "execution_count": 17,
     "metadata": {},
     "output_type": "execute_result"
    }
   ],
   "source": [
    "df4.duplicated()\n"
   ]
  },
  {
   "cell_type": "code",
   "execution_count": 18,
   "metadata": {
    "colab": {
     "base_uri": "https://localhost:8080/"
    },
    "id": "VxzyxabjkvO-",
    "outputId": "636487e5-a01a-4de4-fc70-97423f961e6c"
   },
   "outputs": [
    {
     "data": {
      "text/plain": [
       "0    False\n",
       "1    False\n",
       "4    False\n",
       "6    False\n",
       "dtype: bool"
      ]
     },
     "execution_count": 18,
     "metadata": {},
     "output_type": "execute_result"
    }
   ],
   "source": [
    "df3.duplicated()\n"
   ]
  },
  {
   "cell_type": "markdown",
   "metadata": {
    "id": "Q-FE63axihfj"
   },
   "source": [
    "# Performing some correlation"
   ]
  },
  {
   "cell_type": "code",
   "execution_count": 19,
   "metadata": {
    "colab": {
     "base_uri": "https://localhost:8080/"
    },
    "id": "XQEJSq35jmBV",
    "outputId": "bb287565-44b4-47d1-a21d-7a28d594ea89"
   },
   "outputs": [
    {
     "name": "stdout",
     "output_type": "stream",
     "text": [
      "Empty DataFrame\n",
      "Columns: []\n",
      "Index: []\n"
     ]
    },
    {
     "name": "stderr",
     "output_type": "stream",
     "text": [
      "C:\\Users\\ained\\AppData\\Local\\Temp\\ipykernel_18052\\4233290628.py:1: FutureWarning: The default value of numeric_only in DataFrame.corr is deprecated. In a future version, it will default to False. Select only valid columns or specify the value of numeric_only to silence this warning.\n",
      "  correlation_matrix1 = df3.corr()\n"
     ]
    }
   ],
   "source": [
    "correlation_matrix1 = df3.corr()\n",
    "print(correlation_matrix1)"
   ]
  },
  {
   "cell_type": "code",
   "execution_count": 20,
   "metadata": {
    "colab": {
     "base_uri": "https://localhost:8080/"
    },
    "id": "FKP5p7iyieYn",
    "outputId": "cedd26ad-5c15-40b3-fec8-167056a4e1f6"
   },
   "outputs": [
    {
     "name": "stdout",
     "output_type": "stream",
     "text": [
      "          Duration     Pulse  Maxpulse\n",
      "Duration  1.000000 -0.155408  0.009403\n",
      "Pulse    -0.155408  1.000000  0.786535\n",
      "Maxpulse  0.009403  0.786535  1.000000\n"
     ]
    },
    {
     "name": "stderr",
     "output_type": "stream",
     "text": [
      "C:\\Users\\ained\\AppData\\Local\\Temp\\ipykernel_18052\\3455413629.py:2: FutureWarning: The default value of numeric_only in DataFrame.corr is deprecated. In a future version, it will default to False. Select only valid columns or specify the value of numeric_only to silence this warning.\n",
      "  correlation_matrix = df4.corr()\n"
     ]
    }
   ],
   "source": [
    "# Performing correlation analysis\n",
    "correlation_matrix = df4.corr()\n",
    "print(correlation_matrix)\n"
   ]
  },
  {
   "cell_type": "code",
   "execution_count": 25,
   "metadata": {
    "colab": {
     "base_uri": "https://localhost:8080/",
     "height": 754
    },
    "id": "Pr6YR2nujAGv",
    "outputId": "5c2ae0bf-aa77-47fb-cf46-c0613edd7101"
   },
   "outputs": [
    {
     "name": "stderr",
     "output_type": "stream",
     "text": [
      "C:\\Users\\ained\\AppData\\Local\\Temp\\ipykernel_18052\\2770166986.py:4: FutureWarning: The default value of numeric_only in DataFrame.corr is deprecated. In a future version, it will default to False. Select only valid columns or specify the value of numeric_only to silence this warning.\n",
      "  correlation_matrix = df4.corr()\n"
     ]
    },
    {
     "data": {
      "image/png": "[encoded data removed]",
      "text/plain": [
       "<Figure size 1000x800 with 2 Axes>"
      ]
     },
     "metadata": {},
     "output_type": "display_data"
    }
   ],
   "source": [
    "import seaborn as sns\n",
    "import matplotlib.pyplot as plt\n",
    "\n",
    "correlation_matrix = df4.corr()\n",
    "plt.figure(figsize=(10, 8))\n",
    "sns.heatmap(correlation_matrix, annot=True, cmap='cool')\n",
    "plt.title('Correlation Heatmap for mine CSV file')\n",
    "plt.show()"
   ]
  },
  {
   "cell_type": "code",
   "execution_count": 26,
   "metadata": {
    "colab": {
     "base_uri": "https://localhost:8080/",
     "height": 754
    },
    "id": "wuFIBFDTkGHV",
    "outputId": "264de9bf-57b5-4a30-d601-862e6e371207"
   },
   "outputs": [
    {
     "name": "stderr",
     "output_type": "stream",
     "text": [
      "C:\\Users\\ained\\AppData\\Local\\Temp\\ipykernel_18052\\927077071.py:1: FutureWarning: The default value of numeric_only in DataFrame.corr is deprecated. In a future version, it will default to False. Select only valid columns or specify the value of numeric_only to silence this warning.\n",
      "  correlation_matrix2 = df4.corr()\n"
     ]
    },
    {
     "data": {
      "image/png": "[encoded data removed]",
      "text/plain": [
       "<Figure size 1000x800 with 2 Axes>"
      ]
     },
     "metadata": {},
     "output_type": "display_data"
    }
   ],
   "source": [
    "correlation_matrix2 = df4.corr()\n",
    "\n",
    "# Creating a correlation heatmap\n",
    "plt.figure(figsize=(10, 8))\n",
    "sns.heatmap(correlation_matrix2, annot=True, cmap='cool', fmt=\".2f\")\n",
    "plt.title('Correlation Heatmap for Mine CSV file ')\n",
    "plt.show()"
   ]
  }
 ],
 "metadata": {
  "colab": {
   "provenance": []
  },
  "kernelspec": {
   "display_name": "Python 3 (ipykernel)",
   "language": "python",
   "name": "python3"
  },
  "language_info": {
   "codemirror_mode": {
    "name": "ipython",
    "version": 3
   },
   "file_extension": ".py",
   "mimetype": "text/x-python",
   "name": "python",
   "nbconvert_exporter": "python",
   "pygments_lexer": "ipython3",
   "version": "3.10.9"
  }
 },
 "nbformat": 4,
 "nbformat_minor": 1
}
