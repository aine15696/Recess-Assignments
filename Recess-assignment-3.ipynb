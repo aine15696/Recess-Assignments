{
 "cells": [
  {
   "cell_type": "markdown",
   "id": "23ce9e36",
   "metadata": {},
   "source": [
    "<h2>Creating a list</h2>"
   ]
  },
  {
   "cell_type": "code",
   "execution_count": 1,
   "id": "9e98d624",
   "metadata": {},
   "outputs": [],
   "source": [
    "List = [1, 2, 3, 4, 5]"
   ]
  },
  {
   "cell_type": "markdown",
   "id": "d6f7f3f9",
   "metadata": {},
   "source": [
    "<h2>Accessing list elements</h2>"
   ]
  },
  {
   "cell_type": "code",
   "execution_count": 2,
   "id": "4910785d",
   "metadata": {},
   "outputs": [
    {
     "name": "stdout",
     "output_type": "stream",
     "text": [
      "1\n",
      "3\n"
     ]
    }
   ],
   "source": [
    "print(List[0])\n",
    "print(List[2])"
   ]
  },
  {
   "cell_type": "markdown",
   "id": "c37a2db2",
   "metadata": {},
   "source": [
    "<h2>Modifying list elements</h2>"
   ]
  },
  {
   "cell_type": "code",
   "execution_count": 3,
   "id": "75186859",
   "metadata": {},
   "outputs": [
    {
     "name": "stdout",
     "output_type": "stream",
     "text": [
      "[1, 2, 10, 4, 5]\n"
     ]
    }
   ],
   "source": [
    "List[2] = 10\n",
    "print(List)"
   ]
  },
  {
   "cell_type": "markdown",
   "id": "581c65ca",
   "metadata": {},
   "source": [
    "<h2>Appending an element to the list</h2>"
   ]
  },
  {
   "cell_type": "code",
   "execution_count": 4,
   "id": "df05a7b2",
   "metadata": {},
   "outputs": [
    {
     "name": "stdout",
     "output_type": "stream",
     "text": [
      "[1, 2, 10, 4, 5, 6]\n"
     ]
    }
   ],
   "source": [
    "List.append(6)\n",
    "print(List)"
   ]
  },
  {
   "cell_type": "markdown",
   "id": "09709455",
   "metadata": {},
   "source": [
    "<h2>Removing an element from the list</h2>"
   ]
  },
  {
   "cell_type": "code",
   "execution_count": 5,
   "id": "5db924fa",
   "metadata": {},
   "outputs": [
    {
     "name": "stdout",
     "output_type": "stream",
     "text": [
      "[1, 10, 4, 5, 6]\n"
     ]
    }
   ],
   "source": [
    "List.remove(2)\n",
    "print(List)"
   ]
  },
  {
   "cell_type": "markdown",
   "id": "55e8b852",
   "metadata": {},
   "source": [
    "<h2>Getting the length of the list</h2>"
   ]
  },
  {
   "cell_type": "code",
   "execution_count": 6,
   "id": "c6c32c08",
   "metadata": {},
   "outputs": [
    {
     "name": "stdout",
     "output_type": "stream",
     "text": [
      "5\n"
     ]
    }
   ],
   "source": [
    "length = len(List)\n",
    "print(length)"
   ]
  },
  {
   "cell_type": "markdown",
   "id": "787c3f5d",
   "metadata": {},
   "source": [
    "<h2>Sorting the list</h2>"
   ]
  },
  {
   "cell_type": "code",
   "execution_count": 7,
   "id": "3d7371b8",
   "metadata": {},
   "outputs": [
    {
     "name": "stdout",
     "output_type": "stream",
     "text": [
      "[1, 4, 5, 6, 10]\n"
     ]
    }
   ],
   "source": [
    "List.sort()\n",
    "print(List)"
   ]
  },
  {
   "cell_type": "markdown",
   "id": "dd46a30c",
   "metadata": {},
   "source": [
    "<h2>Reversing the list</h2>"
   ]
  },
  {
   "cell_type": "code",
   "execution_count": 8,
   "id": "86a6a406",
   "metadata": {},
   "outputs": [
    {
     "name": "stdout",
     "output_type": "stream",
     "text": [
      "[10, 6, 5, 4, 1]\n"
     ]
    }
   ],
   "source": [
    "List.reverse()\n",
    "print(List)"
   ]
  },
  {
   "cell_type": "markdown",
   "id": "9e702728",
   "metadata": {},
   "source": [
    "<h2>Slicing the list</h2>"
   ]
  },
  {
   "cell_type": "code",
   "execution_count": 9,
   "id": "cf2840f8",
   "metadata": {},
   "outputs": [
    {
     "name": "stdout",
     "output_type": "stream",
     "text": [
      "[6, 5, 4]\n"
     ]
    }
   ],
   "source": [
    "slice_list = List[1:4]\n",
    "print(slice_list)"
   ]
  },
  {
   "cell_type": "markdown",
   "id": "583af10c",
   "metadata": {},
   "source": [
    "<h2>Clearing the list</h2>"
   ]
  },
  {
   "cell_type": "code",
   "execution_count": 10,
   "id": "888ef2f2",
   "metadata": {},
   "outputs": [
    {
     "name": "stdout",
     "output_type": "stream",
     "text": [
      "[]\n"
     ]
    }
   ],
   "source": [
    "List.clear()\n",
    "print(List)"
   ]
  }
 ],
 "metadata": {
  "kernelspec": {
   "display_name": "Python 3 (ipykernel)",
   "language": "python",
   "name": "python3"
  },
  "language_info": {
   "codemirror_mode": {
    "name": "ipython",
    "version": 3
   },
   "file_extension": ".py",
   "mimetype": "text/x-python",
   "name": "python",
   "nbconvert_exporter": "python",
   "pygments_lexer": "ipython3",
   "version": "3.10.9"
  }
 },
 "nbformat": 4,
 "nbformat_minor": 5
}
