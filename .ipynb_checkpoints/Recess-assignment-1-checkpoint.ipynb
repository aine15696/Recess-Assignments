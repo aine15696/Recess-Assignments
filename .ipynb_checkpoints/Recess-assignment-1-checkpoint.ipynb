{
 "cells": [
  {
   "cell_type": "markdown",
   "id": "243e926f",
   "metadata": {},
   "source": [
    "<h2>Creating a tuple</h2>"
   ]
  },
  {
   "cell_type": "code",
   "execution_count": 1,
   "id": "3096cc78",
   "metadata": {},
   "outputs": [],
   "source": [
    "tup = (1, 2, 3, 4, 5, 6, 3, 8, 9, 10)"
   ]
  },
  {
   "cell_type": "markdown",
   "id": "0ddf9a1a",
   "metadata": {},
   "source": [
    "<h2>Accessing elements of a tuple</h2>"
   ]
  },
  {
   "cell_type": "code",
   "execution_count": 2,
   "id": "9664b71f",
   "metadata": {},
   "outputs": [
    {
     "name": "stdout",
     "output_type": "stream",
     "text": [
      "8\n",
      "(3, 4)\n"
     ]
    }
   ],
   "source": [
    "print(tup[7]) \n",
    "print(tup[2:4])"
   ]
  },
  {
   "cell_type": "markdown",
   "id": "0fab0fdd",
   "metadata": {},
   "source": [
    "<h2>Getting the length of a tuple</hh2>"
   ]
  },
  {
   "cell_type": "code",
   "execution_count": 3,
   "id": "fc819d72",
   "metadata": {},
   "outputs": [
    {
     "name": "stdout",
     "output_type": "stream",
     "text": [
      "10\n"
     ]
    }
   ],
   "source": [
    "print(len(tup))"
   ]
  },
  {
   "cell_type": "markdown",
   "id": "4c3493fb",
   "metadata": {},
   "source": [
    "<h2>Counting occurrences of an element in a tuple</h2>"
   ]
  },
  {
   "cell_type": "code",
   "execution_count": 4,
   "id": "ade2a27d",
   "metadata": {},
   "outputs": [
    {
     "name": "stdout",
     "output_type": "stream",
     "text": [
      "2\n"
     ]
    }
   ],
   "source": [
    "print(tup.count(3))"
   ]
  },
  {
   "cell_type": "markdown",
   "id": "9b1c35c2",
   "metadata": {},
   "source": [
    "<h2>Finding the index of an element in a tuple</h2>"
   ]
  },
  {
   "cell_type": "code",
   "execution_count": 5,
   "id": "d068dfbc",
   "metadata": {},
   "outputs": [
    {
     "name": "stdout",
     "output_type": "stream",
     "text": [
      "3\n"
     ]
    }
   ],
   "source": [
    "print(tup.index(4))"
   ]
  },
  {
   "cell_type": "markdown",
   "id": "85d48366",
   "metadata": {},
   "source": [
    "<h2>Checking if an element is present in a tuple</h2>"
   ]
  },
  {
   "cell_type": "code",
   "execution_count": 6,
   "id": "68266e5c",
   "metadata": {},
   "outputs": [
    {
     "name": "stdout",
     "output_type": "stream",
     "text": [
      "True\n",
      "False\n"
     ]
    }
   ],
   "source": [
    "print(2 in tup)\n",
    "print(15 in tup)"
   ]
  },
  {
   "attachments": {},
   "cell_type": "markdown",
   "id": "a94aaa8d",
   "metadata": {},
   "source": [
    "<h2>Concatenating tuples</h2>"
   ]
  },
  {
   "cell_type": "code",
   "execution_count": 7,
   "id": "4e5836c7",
   "metadata": {},
   "outputs": [
    {
     "name": "stdout",
     "output_type": "stream",
     "text": [
      "(1, 2, 3, 4, 5, 6, 3, 8, 9, 10, 11, 7, 12)\n"
     ]
    }
   ],
   "source": [
    "new_tup = tup + (11, 7, 12)\n",
    "print(tup)"
   ]
  },
  {
   "cell_type": "markdown",
   "id": "5dfba024",
   "metadata": {},
   "source": [
    "<h2>Repeating a tuple</h2>"
   ]
  },
  {
   "cell_type": "code",
   "execution_count": 8,
   "id": "abac22bb",
   "metadata": {},
   "outputs": [
    {
     "name": "stdout",
     "output_type": "stream",
     "text": [
      "(1, 2, 3, 4, 5, 6, 3, 8, 9, 10, 1, 2, 3, 4, 5, 6, 3, 8, 9, 10)\n"
     ]
    }
   ],
   "source": [
    "repeated_tup = tup * 2\n",
    "print(repeated_tup) "
   ]
  },
  {
   "cell_type": "markdown",
   "id": "0c7cf5f8",
   "metadata": {},
   "source": [
    "<h2>Repeating a tuple</h2>"
   ]
  },
  {
   "cell_type": "code",
   "execution_count": 9,
   "id": "a99285cf",
   "metadata": {},
   "outputs": [
    {
     "name": "stdout",
     "output_type": "stream",
     "text": [
      "(1, 2, 3, 4, 5, 6, 3, 8, 9, 10, 1, 2, 3, 4, 5, 6, 3, 8, 9, 10)\n"
     ]
    }
   ],
   "source": [
    "repeated_tup = tup * 2\n",
    "print(repeated_tup)"
   ]
  },
  {
   "cell_type": "markdown",
   "id": "f359f788",
   "metadata": {},
   "source": [
    "<h2>Finding the minimum and maximum values in a tuple</h2>"
   ]
  },
  {
   "cell_type": "code",
   "execution_count": 10,
   "id": "32909610",
   "metadata": {},
   "outputs": [
    {
     "name": "stdout",
     "output_type": "stream",
     "text": [
      "1\n",
      "10\n"
     ]
    }
   ],
   "source": [
    "min_value = min(tup)\n",
    "max_value = max(tup)\n",
    "print(min_value)\n",
    "print(max_value)"
   ]
  }
 ],
 "metadata": {
  "kernelspec": {
   "display_name": "Python 3 (ipykernel)",
   "language": "python",
   "name": "python3"
  },
  "language_info": {
   "codemirror_mode": {
    "name": "ipython",
    "version": 3
   },
   "file_extension": ".py",
   "mimetype": "text/x-python",
   "name": "python",
   "nbconvert_exporter": "python",
   "pygments_lexer": "ipython3",
   "version": "3.10.9"
  }
 },
 "nbformat": 4,
 "nbformat_minor": 5
}
