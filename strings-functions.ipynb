{
 "cells": [
  {
   "cell_type": "code",
   "execution_count": 2,
   "id": "e7f6e450",
   "metadata": {},
   "outputs": [
    {
     "name": "stdout",
     "output_type": "stream",
     "text": [
      " Daniel \n"
     ]
    }
   ],
   "source": [
    "# Using slice() and len() function on a string\n",
    "Str = \"Aine Daniel Mwejune\"\n",
    "starting_index = 4\n",
    "ending_index = 12\n",
    "sliced_string = Str[slice(starting_index, ending_index)] \n",
    "print(sliced_string)"
   ]
  },
  {
   "cell_type": "code",
   "execution_count": 3,
   "id": "27262d41",
   "metadata": {},
   "outputs": [
    {
     "name": "stdout",
     "output_type": "stream",
     "text": [
      "A\n",
      "i\n",
      "n\n",
      "e\n",
      " \n",
      "D\n",
      "a\n",
      "n\n",
      "i\n",
      "e\n",
      "l\n",
      " \n",
      "M\n",
      "w\n",
      "e\n",
      "j\n",
      "u\n",
      "n\n",
      "e\n"
     ]
    }
   ],
   "source": [
    "# Using a for loop on a string\n",
    "for character in Str:\n",
    "    print(character)"
   ]
  },
  {
   "cell_type": "code",
   "execution_count": null,
   "id": "58d8a3ad",
   "metadata": {},
   "outputs": [],
   "source": [
    "# Showing a string within another string\n",
    "name = \"Alice\"\n",
    "language = \"python\"\n",
    "years = 4\n",
    "message = \"My name is {} and I have been using {} for the past {} year(s).\".format(name, language, age)\n",
    "print(message)"
   ]
  }
 ],
 "metadata": {
  "kernelspec": {
   "display_name": "Python 3 (ipykernel)",
   "language": "python",
   "name": "python3"
  },
  "language_info": {
   "codemirror_mode": {
    "name": "ipython",
    "version": 3
   },
   "file_extension": ".py",
   "mimetype": "text/x-python",
   "name": "python",
   "nbconvert_exporter": "python",
   "pygments_lexer": "ipython3",
   "version": "3.10.9"
  }
 },
 "nbformat": 4,
 "nbformat_minor": 5
}
